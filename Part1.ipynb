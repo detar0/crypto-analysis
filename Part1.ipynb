{
  "nbformat": 4,
  "nbformat_minor": 0,
  "metadata": {
    "colab": {
      "provenance": [],
      "authorship_tag": "ABX9TyMN39YUbtHwYfwZqJAQd/4n"
    },
    "kernelspec": {
      "name": "python3",
      "display_name": "Python 3"
    },
    "language_info": {
      "name": "python"
    }
  },
  "cells": [
    {
      "cell_type": "markdown",
      "source": [
        "# Libraries import\n",
        "Importing the necessary libraries for work.\n",
        "\n",
        "`yfinance`: Allows you to download historical stock market data and financials from Yahoo Finance.\n",
        "\n",
        "`pandas`: Provides powerful data structures like DataFrames for data analysis and manipulation.\n",
        "\n",
        "`matplotlib.pyplot`: A plotting library used to create basic visualizations like line and bar charts.\n",
        "\n",
        "`seaborn`: Builds on Matplotlib to create more attractive and informative statistical plots.\n",
        "\n",
        "`matplotlib.gridspec`: Enables advanced control over subplot layouts within a figure.\n",
        "\n",
        "`sqlite3`: Lets you create and interact with local SQLite databases using SQL queries in Python"
      ],
      "metadata": {
        "id": "IQ8XicIk9sUB"
      }
    },
    {
      "cell_type": "code",
      "source": [
        "\n",
        "import yfinance as yf\n",
        "import pandas as pd\n",
        "import matplotlib.pyplot as plt\n",
        "import seaborn as sns\n",
        "import matplotlib.gridspec as gridspec\n",
        "import sqlite3"
      ],
      "metadata": {
        "id": "ZRdZfrb89ssi"
      },
      "execution_count": null,
      "outputs": []
    },
    {
      "cell_type": "markdown",
      "source": [
        "# Downloading data\n",
        "\n",
        "Downloading the data for the cryptocurrencies from yfinance for period from 2022 to 2025"
      ],
      "metadata": {
        "id": "GaqNFjBw9txl"
      }
    },
    {
      "cell_type": "code",
      "source": [
        "BTC = yf.download(\"BTC-USD\", start=\"2022-01-01\", end=\"2025-01-01\")[\"Close\"]\n",
        "ETH = yf.download(\"ETH-USD\", start=\"2022-01-01\", end=\"2025-01-01\")[\"Close\"]\n",
        "SOL = yf.download(\"SOL-USD\", start=\"2022-01-01\", end=\"2025-01-01\")[\"Close\"]\n"
      ],
      "metadata": {
        "id": "MyFjKSAd9t0N",
        "colab": {
          "base_uri": "https://localhost:8080/"
        },
        "outputId": "120d9251-8ff9-484d-b40d-cb2f08deeae8"
      },
      "execution_count": null,
      "outputs": [
        {
          "output_type": "stream",
          "name": "stderr",
          "text": [
            "/tmp/ipython-input-3295612328.py:1: FutureWarning: YF.download() has changed argument auto_adjust default to True\n",
            "  BTC = yf.download(\"BTC-USD\", start=\"2022-01-01\", end=\"2025-01-01\")[\"Close\"]\n",
            "[*********************100%***********************]  1 of 1 completed\n",
            "/tmp/ipython-input-3295612328.py:2: FutureWarning: YF.download() has changed argument auto_adjust default to True\n",
            "  ETH = yf.download(\"ETH-USD\", start=\"2022-01-01\", end=\"2025-01-01\")[\"Close\"]\n",
            "[*********************100%***********************]  1 of 1 completed\n",
            "/tmp/ipython-input-3295612328.py:3: FutureWarning: YF.download() has changed argument auto_adjust default to True\n",
            "  SOL = yf.download(\"SOL-USD\", start=\"2022-01-01\", end=\"2025-01-01\")[\"Close\"]\n",
            "[*********************100%***********************]  1 of 1 completed\n"
          ]
        }
      ]
    },
    {
      "cell_type": "markdown",
      "source": [
        "# Combining evrything\n",
        "\n",
        "Combining every cryptocurrency into one DataFrame, so then i can work with it in SQL"
      ],
      "metadata": {
        "id": "nA54GnkfLaNJ"
      }
    },
    {
      "cell_type": "code",
      "source": [
        "df = pd.concat([BTC, ETH, SOL], axis=1)\n",
        "df.columns = [\"BTC\", \"ETH\", \"SOL\"]\n",
        "print(df)"
      ],
      "metadata": {
        "colab": {
          "base_uri": "https://localhost:8080/"
        },
        "id": "L3dOzAExAf6x",
        "outputId": "f13f6206-d7ca-478a-87f9-5c19a795335c"
      },
      "execution_count": null,
      "outputs": [
        {
          "output_type": "stream",
          "name": "stdout",
          "text": [
            "                     BTC          ETH         SOL\n",
            "Date                                             \n",
            "2022-01-01  47686.812500  3769.697021  178.517944\n",
            "2022-01-02  47345.218750  3829.564941  176.382843\n",
            "2022-01-03  46458.117188  3761.380371  170.297745\n",
            "2022-01-04  45897.574219  3794.056641  167.938904\n",
            "2022-01-05  43569.003906  3550.386963  155.099731\n",
            "...                  ...          ...         ...\n",
            "2024-12-27  94164.859375  3328.916992  183.828476\n",
            "2024-12-28  95163.929688  3397.902344  195.013535\n",
            "2024-12-29  93530.226562  3349.513428  189.744263\n",
            "2024-12-30  92643.210938  3356.392578  191.028046\n",
            "2024-12-31  93429.203125  3332.531738  189.264481\n",
            "\n",
            "[1096 rows x 3 columns]\n"
          ]
        }
      ]
    },
    {
      "cell_type": "markdown",
      "source": [
        "# Connecting to SQL\n",
        "\n",
        "Connecting to temporary sql server using sqlite3,connect, resetting the index so the `Date` column is not dissapearing"
      ],
      "metadata": {
        "id": "KTCW_44XB8WQ"
      }
    },
    {
      "cell_type": "code",
      "source": [
        "conn=sqlite3.connect(\":memory:\")\n",
        "df_reset = df.reset_index()\n",
        "df_reset.to_sql(\"Crypto\", conn, index=False, if_exists=\"replace\")\n"
      ],
      "metadata": {
        "colab": {
          "base_uri": "https://localhost:8080/"
        },
        "id": "PhzFUzkxB8-y",
        "outputId": "befd1ba0-2274-4cb9-f8db-7e227f0c2bf7"
      },
      "execution_count": null,
      "outputs": [
        {
          "output_type": "execute_result",
          "data": {
            "text/plain": [
              "1096"
            ]
          },
          "metadata": {},
          "execution_count": 5
        }
      ]
    },
    {
      "cell_type": "markdown",
      "source": [
        "# SQL part\n",
        "\n",
        "Now, calculating the daily return with `LAG` Function\n",
        "\n",
        "Example:\n",
        "```python\n",
        "(BTC - LAG(BTC) OVER (ORDER BY Date)) / LAG(BTC) OVER (ORDER BY Date) AS BTC_return\n",
        "```\n",
        "can also be read as\n",
        "```python\n",
        "(Today`s Price-Yesterday`s Price)/Yesterday`s Price\n",
        "```\n",
        "\n",
        "Doing it for every cryptocurrency."
      ],
      "metadata": {
        "id": "qj8jqXFyCNP9"
      }
    },
    {
      "cell_type": "code",
      "source": [
        "query=\"\"\"\n",
        "WITH daily_returns AS(\n",
        "  SELECT\n",
        "     Date,\n",
        "     BTC,\n",
        "     ETH,\n",
        "     SOL,\n",
        "     (BTC - LAG(BTC) OVER (ORDER BY Date)) / LAG(BTC) OVER (ORDER BY Date) AS BTC_return,\n",
        "     (ETH - LAG(ETH) OVER (ORDER BY Date)) / LAG(ETH) OVER (ORDER BY Date) AS ETH_return,\n",
        "     (SOL - LAG(SOL) OVER (ORDER BY Date)) / LAG(SOL) OVER (ORDER BY Date) AS SOL_return\n",
        "     FROM Crypto\n",
        ")\n",
        "SELECT *\n",
        "FROM daily_returns\n",
        "WHERE BTC_return IS NOT NULL;\n",
        "\"\"\"\n",
        "data = pd.read_sql_query(query, conn)\n",
        "print(data)"
      ],
      "metadata": {
        "colab": {
          "base_uri": "https://localhost:8080/"
        },
        "id": "2z61B3YGCN_S",
        "outputId": "f5397df2-8a07-49c7-ef6c-edd503f89082"
      },
      "execution_count": null,
      "outputs": [
        {
          "output_type": "stream",
          "name": "stdout",
          "text": [
            "                     Date           BTC          ETH         SOL  BTC_return  \\\n",
            "0     2022-01-02 00:00:00  47345.218750  3829.564941  176.382843   -0.007163   \n",
            "1     2022-01-03 00:00:00  46458.117188  3761.380371  170.297745   -0.018737   \n",
            "2     2022-01-04 00:00:00  45897.574219  3794.056641  167.938904   -0.012066   \n",
            "3     2022-01-05 00:00:00  43569.003906  3550.386963  155.099731   -0.050734   \n",
            "4     2022-01-06 00:00:00  43160.929688  3418.408203  150.431351   -0.009366   \n",
            "...                   ...           ...          ...         ...         ...   \n",
            "1090  2024-12-27 00:00:00  94164.859375  3328.916992  183.828476   -0.017022   \n",
            "1091  2024-12-28 00:00:00  95163.929688  3397.902344  195.013535    0.010610   \n",
            "1092  2024-12-29 00:00:00  93530.226562  3349.513428  189.744263   -0.017167   \n",
            "1093  2024-12-30 00:00:00  92643.210938  3356.392578  191.028046   -0.009484   \n",
            "1094  2024-12-31 00:00:00  93429.203125  3332.531738  189.264481    0.008484   \n",
            "\n",
            "      ETH_return  SOL_return  \n",
            "0       0.015881   -0.011960  \n",
            "1      -0.017805   -0.034499  \n",
            "2       0.008687   -0.013851  \n",
            "3      -0.064224   -0.076451  \n",
            "4      -0.037173   -0.030099  \n",
            "...          ...         ...  \n",
            "1090   -0.000693   -0.023322  \n",
            "1091    0.020723    0.060845  \n",
            "1092   -0.014241   -0.027020  \n",
            "1093    0.002054    0.006766  \n",
            "1094   -0.007109   -0.009232  \n",
            "\n",
            "[1095 rows x 7 columns]\n"
          ]
        }
      ]
    },
    {
      "cell_type": "markdown",
      "source": [
        "Then, moving to excel where i will calculate the metrics"
      ],
      "metadata": {
        "id": "jS-h9K7JN00T"
      }
    }
  ]
}